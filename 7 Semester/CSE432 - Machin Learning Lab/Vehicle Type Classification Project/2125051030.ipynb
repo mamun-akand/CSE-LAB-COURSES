{
  "nbformat": 4,
  "nbformat_minor": 0,
  "metadata": {
    "colab": {
      "provenance": []
    },
    "kernelspec": {
      "name": "python3",
      "display_name": "Python 3"
    },
    "language_info": {
      "name": "python"
    }
  },
  "cells": [
    {
      "cell_type": "code",
      "execution_count": 1,
      "metadata": {
        "colab": {
          "base_uri": "https://localhost:8080/"
        },
        "id": "O_Jz1cHG8eEY",
        "outputId": "823ee0c5-85e3-4bea-bb35-884ffc47a35b"
      },
      "outputs": [
        {
          "output_type": "stream",
          "name": "stdout",
          "text": [
            "Mounted at /content/drive\n"
          ]
        }
      ],
      "source": [
        "from google.colab import drive\n",
        "drive.mount('/content/drive')"
      ]
    },
    {
      "cell_type": "code",
      "source": [
        "import os\n",
        "import cv2\n",
        "import numpy as np\n",
        "from sklearn.model_selection import train_test_split\n",
        "from sklearn.svm import SVC\n",
        "from sklearn.metrics import classification_report\n",
        "from tensorflow.keras.models import Sequential\n",
        "from tensorflow.keras.layers import Conv2D, MaxPooling2D, Flatten, Dense\n",
        "from tensorflow.keras.utils import to_categorical\n",
        "from tensorflow.keras.preprocessing.image import ImageDataGenerator\n",
        "\n",
        "# Path to dataset\n",
        "DATASET_DIR = '/content/drive/MyDrive/7A/Machine Learning Lab/Dataset'\n",
        "\n",
        "# Load dataset\n",
        "def load_images_and_labels(dataset_dir):\n",
        "    images = []\n",
        "    labels = []\n",
        "    label_map = {}\n",
        "    for label, category in enumerate(os.listdir(dataset_dir)):\n",
        "        label_map[label] = category\n",
        "        category_dir = os.path.join(dataset_dir, category)\n",
        "        for file in os.listdir(category_dir):\n",
        "            img_path = os.path.join(category_dir, file)\n",
        "            img = cv2.imread(img_path)\n",
        "            if img is not None:\n",
        "                img = cv2.resize(img, (128, 128))  # Resize images to 128x128\n",
        "                images.append(img)\n",
        "                labels.append(label)\n",
        "    return np.array(images), np.array(labels), label_map\n",
        "\n",
        "images, labels, label_map = load_images_and_labels(DATASET_DIR)\n",
        "\n",
        "# Normalize images\n",
        "images = images / 255.0\n",
        "\n",
        "# Train-test split\n",
        "X_train, X_test, y_train, y_test = train_test_split(images, labels, test_size=0.2, random_state=42)\n",
        "\n",
        "# Convert labels to categorical for CNN\n",
        "y_train_categorical = to_categorical(y_train)\n",
        "y_test_categorical = to_categorical(y_test)\n",
        "\n",
        "# 1. Conventional Classification\n",
        "def extract_features(images):\n",
        "    return images.reshape(len(images), -1)  # Flatten images\n",
        "\n",
        "X_train_flat = extract_features(X_train)\n",
        "X_test_flat = extract_features(X_test)\n",
        "\n",
        "svm = SVC(kernel='linear')\n",
        "svm.fit(X_train_flat, y_train)\n",
        "y_pred_svm = svm.predict(X_test_flat)\n",
        "\n",
        "print(\"SVM Classification Report:\")\n",
        "print(classification_report(y_test, y_pred_svm, target_names=label_map.values()))\n",
        "\n",
        "# 2. CNN Model\n",
        "cnn_model = Sequential([\n",
        "    Conv2D(32, (3, 3), activation='relu', input_shape=(128, 128, 3)),\n",
        "    MaxPooling2D((2, 2)),\n",
        "    Conv2D(64, (3, 3), activation='relu'),\n",
        "    MaxPooling2D((2, 2)),\n",
        "    Flatten(),\n",
        "    Dense(128, activation='relu'),\n",
        "    Dense(len(label_map), activation='softmax')\n",
        "])\n",
        "\n",
        "cnn_model.compile(optimizer='adam', loss='categorical_crossentropy', metrics=['accuracy'])\n",
        "\n",
        "# Data augmentation\n",
        "datagen = ImageDataGenerator(rotation_range=15, width_shift_range=0.1, height_shift_range=0.1, horizontal_flip=True)\n",
        "datagen.fit(X_train)\n",
        "\n",
        "cnn_model.fit(datagen.flow(X_train, y_train_categorical, batch_size=32),\n",
        "              validation_data=(X_test, y_test_categorical), epochs=10)\n",
        "\n",
        "# Evaluate CNN\n",
        "cnn_loss, cnn_accuracy = cnn_model.evaluate(X_test, y_test_categorical)\n",
        "print(f\"CNN Accuracy: {cnn_accuracy * 100:.2f}%\")"
      ],
      "metadata": {
        "colab": {
          "base_uri": "https://localhost:8080/"
        },
        "id": "Tb2TQkni9BMF",
        "outputId": "0cabfe24-64f8-4bfc-dc16-123def01ccaf"
      },
      "execution_count": 2,
      "outputs": [
        {
          "output_type": "stream",
          "name": "stdout",
          "text": [
            "SVM Classification Report:\n",
            "              precision    recall  f1-score   support\n",
            "\n",
            "  motorcycle       0.62      0.69      0.65        26\n",
            "         Car       0.45      0.50      0.47        18\n",
            "         Bus       0.53      0.44      0.48        18\n",
            "       Truck       0.50      0.44      0.47        18\n",
            "\n",
            "    accuracy                           0.54        80\n",
            "   macro avg       0.53      0.52      0.52        80\n",
            "weighted avg       0.54      0.54      0.53        80\n",
            "\n"
          ]
        },
        {
          "output_type": "stream",
          "name": "stderr",
          "text": [
            "/usr/local/lib/python3.10/dist-packages/keras/src/layers/convolutional/base_conv.py:107: UserWarning: Do not pass an `input_shape`/`input_dim` argument to a layer. When using Sequential models, prefer using an `Input(shape)` object as the first layer in the model instead.\n",
            "  super().__init__(activity_regularizer=activity_regularizer, **kwargs)\n"
          ]
        },
        {
          "output_type": "stream",
          "name": "stdout",
          "text": [
            "Epoch 1/10\n"
          ]
        },
        {
          "output_type": "stream",
          "name": "stderr",
          "text": [
            "/usr/local/lib/python3.10/dist-packages/keras/src/trainers/data_adapters/py_dataset_adapter.py:122: UserWarning: Your `PyDataset` class should call `super().__init__(**kwargs)` in its constructor. `**kwargs` can include `workers`, `use_multiprocessing`, `max_queue_size`. Do not pass these arguments to `fit()`, as they will be ignored.\n",
            "  self._warn_if_super_not_called()\n"
          ]
        },
        {
          "output_type": "stream",
          "name": "stdout",
          "text": [
            "\u001b[1m10/10\u001b[0m \u001b[32m━━━━━━━━━━━━━━━━━━━━\u001b[0m\u001b[37m\u001b[0m \u001b[1m13s\u001b[0m 829ms/step - accuracy: 0.3256 - loss: 3.1002 - val_accuracy: 0.2250 - val_loss: 1.3960\n",
            "Epoch 2/10\n",
            "\u001b[1m10/10\u001b[0m \u001b[32m━━━━━━━━━━━━━━━━━━━━\u001b[0m\u001b[37m\u001b[0m \u001b[1m20s\u001b[0m 983ms/step - accuracy: 0.2875 - loss: 1.3769 - val_accuracy: 0.3625 - val_loss: 1.3249\n",
            "Epoch 3/10\n",
            "\u001b[1m10/10\u001b[0m \u001b[32m━━━━━━━━━━━━━━━━━━━━\u001b[0m\u001b[37m\u001b[0m \u001b[1m10s\u001b[0m 778ms/step - accuracy: 0.3072 - loss: 1.3439 - val_accuracy: 0.4375 - val_loss: 1.1971\n",
            "Epoch 4/10\n",
            "\u001b[1m10/10\u001b[0m \u001b[32m━━━━━━━━━━━━━━━━━━━━\u001b[0m\u001b[37m\u001b[0m \u001b[1m11s\u001b[0m 1s/step - accuracy: 0.4395 - loss: 1.2019 - val_accuracy: 0.5500 - val_loss: 1.0491\n",
            "Epoch 5/10\n",
            "\u001b[1m10/10\u001b[0m \u001b[32m━━━━━━━━━━━━━━━━━━━━\u001b[0m\u001b[37m\u001b[0m \u001b[1m12s\u001b[0m 1s/step - accuracy: 0.5530 - loss: 1.0706 - val_accuracy: 0.6125 - val_loss: 0.8640\n",
            "Epoch 6/10\n",
            "\u001b[1m10/10\u001b[0m \u001b[32m━━━━━━━━━━━━━━━━━━━━\u001b[0m\u001b[37m\u001b[0m \u001b[1m20s\u001b[0m 1s/step - accuracy: 0.5756 - loss: 1.0185 - val_accuracy: 0.6250 - val_loss: 0.9002\n",
            "Epoch 7/10\n",
            "\u001b[1m10/10\u001b[0m \u001b[32m━━━━━━━━━━━━━━━━━━━━\u001b[0m\u001b[37m\u001b[0m \u001b[1m19s\u001b[0m 766ms/step - accuracy: 0.6016 - loss: 0.9400 - val_accuracy: 0.6375 - val_loss: 0.9038\n",
            "Epoch 8/10\n",
            "\u001b[1m10/10\u001b[0m \u001b[32m━━━━━━━━━━━━━━━━━━━━\u001b[0m\u001b[37m\u001b[0m \u001b[1m12s\u001b[0m 980ms/step - accuracy: 0.5715 - loss: 0.9543 - val_accuracy: 0.7250 - val_loss: 0.7114\n",
            "Epoch 9/10\n",
            "\u001b[1m10/10\u001b[0m \u001b[32m━━━━━━━━━━━━━━━━━━━━\u001b[0m\u001b[37m\u001b[0m \u001b[1m18s\u001b[0m 765ms/step - accuracy: 0.6678 - loss: 0.8094 - val_accuracy: 0.7250 - val_loss: 0.7023\n",
            "Epoch 10/10\n",
            "\u001b[1m10/10\u001b[0m \u001b[32m━━━━━━━━━━━━━━━━━━━━\u001b[0m\u001b[37m\u001b[0m \u001b[1m13s\u001b[0m 908ms/step - accuracy: 0.7180 - loss: 0.7691 - val_accuracy: 0.7250 - val_loss: 0.7560\n",
            "\u001b[1m3/3\u001b[0m \u001b[32m━━━━━━━━━━━━━━━━━━━━\u001b[0m\u001b[37m\u001b[0m \u001b[1m1s\u001b[0m 139ms/step - accuracy: 0.7297 - loss: 0.7643\n",
            "CNN Accuracy: 72.50%\n"
          ]
        }
      ]
    },
    {
      "cell_type": "code",
      "source": [
        "from sklearn.metrics import accuracy_score\n",
        "svm_accuracy = accuracy_score(y_test, y_pred_svm)\n",
        "print(f\"SVM Accuracy: {svm_accuracy * 100:.2f}%\")"
      ],
      "metadata": {
        "colab": {
          "base_uri": "https://localhost:8080/"
        },
        "id": "SijcL7BbBpeL",
        "outputId": "ed77f86d-7acf-4cbb-e902-6dced0f39a3a"
      },
      "execution_count": 3,
      "outputs": [
        {
          "output_type": "stream",
          "name": "stdout",
          "text": [
            "SVM Accuracy: 53.75%\n"
          ]
        }
      ]
    },
    {
      "cell_type": "code",
      "source": [
        "cnn_loss, cnn_accuracy = cnn_model.evaluate(X_test, y_test_categorical)\n",
        "print(f\"CNN Accuracy: {cnn_accuracy * 100:.2f}%\")\n"
      ],
      "metadata": {
        "colab": {
          "base_uri": "https://localhost:8080/"
        },
        "id": "s2_O_evPB1vJ",
        "outputId": "393c8796-18df-4f49-fad1-508f3551f320"
      },
      "execution_count": 4,
      "outputs": [
        {
          "output_type": "stream",
          "name": "stdout",
          "text": [
            "\u001b[1m3/3\u001b[0m \u001b[32m━━━━━━━━━━━━━━━━━━━━\u001b[0m\u001b[37m\u001b[0m \u001b[1m1s\u001b[0m 145ms/step - accuracy: 0.7297 - loss: 0.7643\n",
            "CNN Accuracy: 72.50%\n"
          ]
        }
      ]
    }
  ]
}